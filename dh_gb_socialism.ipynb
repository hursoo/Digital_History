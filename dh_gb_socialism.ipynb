{
  "nbformat": 4,
  "nbformat_minor": 0,
  "metadata": {
    "colab": {
      "provenance": [],
      "private_outputs": true,
      "toc_visible": true,
      "authorship_tag": "ABX9TyPifcM4n/w7mBTAGAhLVsnh",
      "include_colab_link": true
    },
    "kernelspec": {
      "name": "python3",
      "display_name": "Python 3"
    },
    "language_info": {
      "name": "python"
    }
  },
  "cells": [
    {
      "cell_type": "markdown",
      "metadata": {
        "id": "view-in-github",
        "colab_type": "text"
      },
      "source": [
        "<a href=\"https://colab.research.google.com/github/hursoo/Digital_History/blob/main/dh_gb_socialism.ipynb\" target=\"_parent\"><img src=\"https://colab.research.google.com/assets/colab-badge.svg\" alt=\"Open In Colab\"/></a>"
      ]
    },
    {
      "cell_type": "markdown",
      "source": [
        "# 1_데이터 불러오기"
      ],
      "metadata": {
        "id": "bsc3w6NNkjeW"
      }
    },
    {
      "cell_type": "markdown",
      "source": [
        "## 1) 라이브러리, 구글 마운트"
      ],
      "metadata": {
        "id": "X_oVrgdHvxl9"
      }
    },
    {
      "cell_type": "code",
      "execution_count": null,
      "metadata": {
        "id": "czemPwY7S86p"
      },
      "outputs": [],
      "source": [
        "import pandas as pd\n",
        "import numpy as np\n",
        "\n",
        "from sklearn.feature_extraction.text import TfidfVectorizer\n",
        "from sklearn.metrics.pairwise import cosine_similarity"
      ]
    },
    {
      "cell_type": "code",
      "source": [
        "'''\n",
        "from google.colab import drive\n",
        "drive.mount('/content/drive')\n",
        "'''"
      ],
      "metadata": {
        "id": "-rQDfuidTZuI"
      },
      "execution_count": null,
      "outputs": []
    },
    {
      "cell_type": "markdown",
      "source": [
        "## 2) 파일 불러오기"
      ],
      "metadata": {
        "id": "lBodLxDFwHf8"
      }
    },
    {
      "cell_type": "code",
      "source": [
        "import pandas as pd"
      ],
      "metadata": {
        "id": "pu3OtsvMSuyD"
      },
      "execution_count": null,
      "outputs": []
    },
    {
      "cell_type": "code",
      "source": [
        "url = 'https://github.com/hursoo/Digital_History/raw/main/gb_corpus.xlsx'"
      ],
      "metadata": {
        "id": "Nh35Isn-SuvT"
      },
      "execution_count": null,
      "outputs": []
    },
    {
      "cell_type": "code",
      "source": [
        "df = pd.read_excel(url, index_col = 0)\n",
        "df"
      ],
      "metadata": {
        "id": "8WDFtJnXSur-"
      },
      "execution_count": null,
      "outputs": []
    },
    {
      "cell_type": "code",
      "source": [
        "df[:3].to_csv('imsi.txt')"
      ],
      "metadata": {
        "id": "jvjXXjMcT2fW"
      },
      "execution_count": null,
      "outputs": []
    },
    {
      "cell_type": "markdown",
      "source": [
        "# 2_논조를 반영하는 특성 추출"
      ],
      "metadata": {
        "id": "3coKMcoakqvA"
      }
    },
    {
      "cell_type": "markdown",
      "source": [
        "## 1) 문서-단어 행렬(dtm) 산출 함수"
      ],
      "metadata": {
        "id": "V033pPNU84lr"
      }
    },
    {
      "cell_type": "code",
      "source": [
        "def get_dtm(df, col_name, rank_n): # rank_n : 고빈도 단어 n 순위까지\n",
        "    # 단어 종류 모두 벡터화. 2음절 이상\n",
        "    tv = TfidfVectorizer(norm=None)\n",
        "    dtm = tv.fit_transform(df[col_name])\n",
        "\n",
        "    # df 형태로 표시\n",
        "    dtm_df = pd.DataFrame(dtm.toarray(), columns=tv.get_feature_names_out(), index=df.index)\n",
        "\n",
        "    highword_list = dtm_df.sum().sort_values(ascending=False)[:rank_n].index.to_list()\n",
        "    feature_df = dtm_df[highword_list] # 열 순서는 tfidf값이 높은 것부터 낮은 순으로 정렬\n",
        "    return feature_df"
      ],
      "metadata": {
        "id": "WKcsjlUFvaB0"
      },
      "execution_count": null,
      "outputs": []
    },
    {
      "cell_type": "markdown",
      "source": [
        "## 2) 특성 및 특성벡터\n",
        "- tfidf 고빈도 50위 단어"
      ],
      "metadata": {
        "id": "XsE02yQ11ioy"
      }
    },
    {
      "cell_type": "code",
      "source": [
        "dtm50_df = get_dtm(df, 'sent_split', 50)\n",
        "dtm50_df"
      ],
      "metadata": {
        "id": "kxa9TOaH08MV"
      },
      "execution_count": null,
      "outputs": []
    },
    {
      "cell_type": "markdown",
      "source": [
        "#3_시기 구분하기\n",
        "- 시기 구분 : 논조 변화를 관찰하는 마디"
      ],
      "metadata": {
        "id": "oZwHdPOZIfqH"
      }
    },
    {
      "cell_type": "markdown",
      "source": [
        "## 1) dtm50 + 구간(grid) = gtm50 산출하기"
      ],
      "metadata": {
        "id": "405_v8joIl0_"
      }
    },
    {
      "cell_type": "code",
      "source": [
        "def transform_to_gtm(df, grid_col, dtm_df): # 인자 - df, 구간 정보 열, dtm50_df\n",
        "    # 구간정보만 df로 추출\n",
        "    grid_df = df[[grid_col]]\n",
        "    # 구간 정보 결합하고, 구간을 index로 만듦\n",
        "    temp_dtm = pd.concat([dtm_df, grid_df], axis=1)\n",
        "    grid_dtm = temp_dtm.set_index(grid_col)\n",
        "    # 구간별 평균\n",
        "    gtm = grid_dtm.groupby(grid_col).mean()\n",
        "    return gtm"
      ],
      "metadata": {
        "id": "rVPeiAe8p2_l"
      },
      "execution_count": null,
      "outputs": []
    },
    {
      "cell_type": "code",
      "source": [
        "# 함수 실행하여 gtm 변수에 할당\n",
        "gtm_df = transform_to_gtm(df, 'grid', dtm50_df)\n",
        "gtm_df"
      ],
      "metadata": {
        "id": "M8qkSeHFp28l"
      },
      "execution_count": null,
      "outputs": []
    },
    {
      "cell_type": "markdown",
      "source": [
        "## 2) 구간별 상관계수 산출하기"
      ],
      "metadata": {
        "id": "6KDAJhO-Itq4"
      }
    },
    {
      "cell_type": "code",
      "source": [
        "def make_corr(gtm):\n",
        "    tgm = gtm.T\n",
        "    result = tgm.corr()\n",
        "    return result"
      ],
      "metadata": {
        "id": "BQEwo6Y5p25k"
      },
      "execution_count": null,
      "outputs": []
    },
    {
      "cell_type": "code",
      "source": [
        "gg_corr = make_corr(gtm_df)\n",
        "gg_corr"
      ],
      "metadata": {
        "id": "7rnwUSRxp22u"
      },
      "execution_count": null,
      "outputs": []
    },
    {
      "cell_type": "markdown",
      "source": [
        "## 3) 히트맵 시각화로 시기구분 하기"
      ],
      "metadata": {
        "id": "1Rahm6_5I28I"
      }
    },
    {
      "cell_type": "code",
      "source": [
        "import matplotlib.pyplot as plt\n",
        "import seaborn as sns\n",
        "\n",
        "def draw_heatmap(df):\n",
        "    df = df.copy()\n",
        "    plt.figure(figsize=(10,4))\n",
        "    sns.heatmap(data = df, annot=True,\n",
        "    fmt = '.3f', linewidths=.5, cmap='Blues')"
      ],
      "metadata": {
        "id": "v-RB0dYfp2zs"
      },
      "execution_count": null,
      "outputs": []
    },
    {
      "cell_type": "code",
      "source": [
        "draw_heatmap(gg_corr)"
      ],
      "metadata": {
        "id": "32ArkQbtp2wz"
      },
      "execution_count": null,
      "outputs": []
    },
    {
      "cell_type": "markdown",
      "source": [
        "- 모호한 부분의 시기 구분  \n",
        " - 해당 구간이 좌우와 가진 상관계수를 비교  \n",
        " - 이 때 비교 범위는 왼쪽(및 오른쪽) 가상 시기에 포함되는 구간들의 상관계수를 평균한 값  \n",
        " =>   \n",
        "    1p : 01hf - 05hf  \n",
        "    2p : 06hf - 09hf  \n",
        "    3p : 10hf - 12hf"
      ],
      "metadata": {
        "id": "-wlGq_8Ur97b"
      }
    },
    {
      "cell_type": "markdown",
      "source": [
        "## 4) 시기별 코퍼스 산출"
      ],
      "metadata": {
        "id": "eltl2FS0r94b"
      }
    },
    {
      "cell_type": "code",
      "source": [
        "prd_1 = ['01hf', '02hf', '03hf', '04hf', '05hf']\n",
        "prd_2 = ['06hf', '07hf', '08hf', '09hf']\n",
        "prd_3 = ['10hf', '11hf', '12hf']"
      ],
      "metadata": {
        "id": "0IA6kWz1z4z-"
      },
      "execution_count": null,
      "outputs": []
    },
    {
      "cell_type": "code",
      "source": [
        "df = df.copy()\n",
        "df['period'] = '' # df에 새 열('period')을 생성\n",
        "df.loc[df['grid'].isin(prd_1), 'period'] = '1p'\n",
        "df.loc[df['grid'].isin(prd_2), 'period'] = '2p'\n",
        "df.loc[df['grid'].isin(prd_3), 'period'] = '3p'\n",
        "df"
      ],
      "metadata": {
        "id": "vflOPcNhz4xM"
      },
      "execution_count": null,
      "outputs": []
    },
    {
      "cell_type": "code",
      "source": [
        "# 시기구분 정보 반영 검증\n",
        "df.groupby(['period', 'grid'])['sent_id'].count()"
      ],
      "metadata": {
        "id": "_sd0PqjA3ynH"
      },
      "execution_count": null,
      "outputs": []
    },
    {
      "cell_type": "code",
      "source": [
        "# 시기별 코퍼스\n",
        "\n",
        "df_1p = df[df['period'] == '1p']\n",
        "df_2p = df[df['period'] == '2p']\n",
        "df_3p = df[df['period'] == '3p']"
      ],
      "metadata": {
        "id": "RIGp1b45qTfr"
      },
      "execution_count": null,
      "outputs": []
    },
    {
      "cell_type": "code",
      "source": [
        "print(df_1p.shape)\n",
        "print(df_2p.shape)\n",
        "print(df_3p.shape)\n",
        "print(df_1p.shape[0] + df_2p.shape[0] + df_3p.shape[0])"
      ],
      "metadata": {
        "id": "UqUIMTe6yCDT"
      },
      "execution_count": null,
      "outputs": []
    },
    {
      "cell_type": "markdown",
      "source": [
        "# 4_시기별 연결망 계수, 지표 산출"
      ],
      "metadata": {
        "id": "uBnfKi3X7og1"
      }
    },
    {
      "cell_type": "markdown",
      "source": [
        "## 1) 시기별 코사인유사도 계수"
      ],
      "metadata": {
        "id": "nvX2P706yCAq"
      }
    },
    {
      "cell_type": "code",
      "source": [
        "# 코사인유사도 산출 함수\n",
        "\n",
        "def get_cossim(dtm_df):\n",
        "    tdf_n = dtm_df.columns.tolist()\n",
        "    tdm = dtm_df.T\n",
        "    cossim = cosine_similarity(tdm, tdm)\n",
        "    cossim_df = pd.DataFrame(cossim, columns=tdf_n, index=tdf_n)\n",
        "    return cossim_df"
      ],
      "metadata": {
        "id": "VOjF1YtT5FGC"
      },
      "execution_count": null,
      "outputs": []
    },
    {
      "cell_type": "code",
      "source": [
        "# 시기별 dtm 산출\n",
        "\n",
        "dtm50_df_1p = get_dtm(df_1p, 'sent_split', 50)\n",
        "dtm50_df_2p = get_dtm(df_2p, 'sent_split', 50)\n",
        "dtm50_df_3p = get_dtm(df_3p, 'sent_split', 50)"
      ],
      "metadata": {
        "id": "TNQ-QGPucRHF"
      },
      "execution_count": null,
      "outputs": []
    },
    {
      "cell_type": "code",
      "source": [
        "print(dtm50_df_1p.shape)\n",
        "print(dtm50_df_2p.shape)\n",
        "print(dtm50_df_3p.shape)"
      ],
      "metadata": {
        "id": "gdyHrqZoc33d"
      },
      "execution_count": null,
      "outputs": []
    },
    {
      "cell_type": "code",
      "source": [
        "# 시기별 코사인 유사도 산출 함수 실행\n",
        "\n",
        "cossim_1p = get_cossim(dtm50_df_1p)\n",
        "cossim_2p = get_cossim(dtm50_df_2p)\n",
        "cossim_3p = get_cossim(dtm50_df_3p)"
      ],
      "metadata": {
        "id": "F_dosNkQdM6F"
      },
      "execution_count": null,
      "outputs": []
    },
    {
      "cell_type": "code",
      "source": [
        "print(cossim_1p.iloc[:3,:5])\n",
        "print(cossim_2p.iloc[:3,:5])\n",
        "print(cossim_3p.iloc[:3,:5])"
      ],
      "metadata": {
        "id": "_HJHfSgzdWOV"
      },
      "execution_count": null,
      "outputs": []
    },
    {
      "cell_type": "markdown",
      "source": [
        "## 2) wnet.exe 입력값 작성"
      ],
      "metadata": {
        "id": "Pyb_m3G7zEAZ"
      }
    },
    {
      "cell_type": "code",
      "source": [
        "# 코사인유사도 df를 그대로 텍스트 파일(tsv)로 저장 (인덱스, 헤더 모두 출력하도록 해야 고빈도 50개 단어가 출력됨)\n",
        "\n",
        "cossim_1p.to_csv('wnet_input_1p.txt', index=True, header=True, sep='\\t')\n",
        "cossim_2p.to_csv('wnet_input_2p.txt', index=True, header=True, sep='\\t')\n",
        "cossim_3p.to_csv('wnet_input_3p.txt', index=True, header=True, sep='\\t')"
      ],
      "metadata": {
        "id": "SYLzxdeQzD9K"
      },
      "execution_count": null,
      "outputs": []
    },
    {
      "cell_type": "markdown",
      "source": [
        "# The End of Note"
      ],
      "metadata": {
        "id": "5RU0J8JkH5Ih"
      }
    }
  ]
}